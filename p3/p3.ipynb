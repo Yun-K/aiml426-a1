{
 "cells": [
  {
   "cell_type": "code",
   "execution_count": null,
   "metadata": {},
   "outputs": [],
   "source": []
  }
 ],
 "metadata": {
  "kernelspec": {
   "display_name": "Python 3.10.6 64-bit",
   "language": "python",
   "name": "python3"
  },
  "language_info": {
   "name": "python",
   "version": "3.10.6"
  },
  "orig_nbformat": 4,
  "vscode": {
   "interpreter": {
    "hash": "5820782ddb57a41d134023b13d831951fa79f64168f9e1c024d589e5d1bd51a8"
   }
  }
 },
 "nbformat": 4,
 "nbformat_minor": 2
}

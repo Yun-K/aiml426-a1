{
 "cells": [
  {
   "cell_type": "code",
   "execution_count": 1,
   "metadata": {},
   "outputs": [
    {
     "data": {
      "text/plain": [
       "{0: (55, 95),\n",
       " 1: (10, 4),\n",
       " 2: (47, 60),\n",
       " 3: (5, 32),\n",
       " 4: (4, 23),\n",
       " 5: (50, 72),\n",
       " 6: (8, 80),\n",
       " 7: (61, 62),\n",
       " 8: (85, 65),\n",
       " 9: (87, 46)}"
      ]
     },
     "execution_count": 1,
     "metadata": {},
     "output_type": "execute_result"
    }
   ],
   "source": [
    "import pandas as pd\n",
    "import numpy as np\n",
    "from copy import deepcopy\n",
    "from distutils.command.build_scripts import first_line_re\n",
    "from tkinter.tix import COLUMN\n",
    "# Import deque for the stack structure, copy for deep copy nodes\n",
    "from collections import deque\n",
    "\n",
    "class Knapsack:\n",
    "    '''For each instance, we have following fields: \n",
    "            the 1st line of the  file contains the number of items N and the knapsack capacity C.,\n",
    "            2nd onwards contains the Value and Weight of each item, separated by a space.\n",
    "    '''\n",
    "    # main constructor \n",
    "    def __init__(self, M, capacity, items):\n",
    "        '''N is the number of items, i.e. len(items)'''\n",
    "        self.M = M\n",
    "        self.capacity = capacity\n",
    "        self.items = items\n",
    "        self.items_dict  = {}\n",
    "        i = 0\n",
    "        for x in self.items.to_records(index=False):\n",
    "            self.items_dict[i] = tuple(x)\n",
    "            i += 1\n",
    "        \n",
    "    @classmethod\n",
    "    def constructFromFile(cls, filePath):\n",
    "        '''Read from file and construct an instance of Knapsack'''\n",
    "        with open(filePath, 'r') as file:\n",
    "            first_line = file.readline()\n",
    "            N,capacity = int(first_line.split(' ')[0]),int(first_line.split(' ')[1])\n",
    "            # first_line = first_line.split(' ')\n",
    "        itemsdf = pd.read_csv(filePath,delim_whitespace=True, skiprows=range(1), header=None)\n",
    "        itemsdf.columns = ['Value', 'Weight']\n",
    "        \n",
    "        # add a index column for the items\n",
    "        # items.index = items.index + 1\n",
    "        return cls(N, capacity, itemsdf)\n",
    "    \n",
    "    \n",
    "    def __str__(self):\n",
    "        return 'N = {}, capacity = {}, \\nitems =\\n {}'.format(self.M, self.capacity, self.items)    \n",
    "ds_10_269 = Knapsack.constructFromFile('10_269')\n",
    "# print(ten_269)\n",
    "ds_10_269.items_dict\n",
    "    "
   ]
  },
  {
   "cell_type": "markdown",
   "metadata": {},
   "source": [
    "# part 1 :\n",
    "\n",
    "Develop a GA to solve the 0-1 knapsack problem and apply it to the provided three instances. You can use a library or write the program from scratch (GA is not hard to code). \n",
    "You should \n",
    "\n",
    "- Determine the proper individual representation and explain the reasons. \n",
    "- Design the proper fitness function and justify it. \n",
    "- Design proper crossover and mutation operators. \n",
    "- Set proper GA parameter values, such as population size, crossover and mutation rates, selection scheme. \n",
    "- For each instance, run the GA for 5 times with different random seeds. Present the mean and standard deviation of the GA in the 5 runs. \n",
    "- Compare the results with the optimal values, and make discussions. \n",
    "- Draw the convergence curve of the GA for each instance (x-axis being the number of generations, y-axis the average fitness of the 5 best solutions in the population of the xth generation from the 5 runs). Make discussions about the convergence curve and draw your conclusions."
   ]
  },
  {
   "cell_type": "code",
   "execution_count": 2,
   "metadata": {},
   "outputs": [],
   "source": [
    "from json import tool\n",
    "from deap import creator, base, gp, tools, algorithms # core functionality of DEAP\n",
    "import array\n",
    "import random\n",
    "import json\n",
    "import numpy as np\n",
    "import math\n",
    "import random\n",
    "# Python internal operators for object comparisons, \n",
    "# logical comparisons, arithmetic operations, and sequence operations\n",
    "import operator \n",
    "\n",
    "# primitives are internal nodes, terminals are leaf nodes that can be either args or constants.\n",
    "\n",
    "# tree based encoding to represent and evolve programs using evolutionary operators(i.e. selection, crossover, mutation). \n",
    "# Solution trees are composed of primitive functions (e.g., arithmetic operations, mathematical functions, logical operations) and terminals (variables or constants linked to the problem).\n",
    "\n",
    "# a population of heuristics is evolved in order to improve their performance\n",
    "# To reduce the complexity, only the part which has a direct impact on the TSP heuristic results is evolved, i.e., scoring function. \n",
    "\n",
    "\n",
    "\n",
    "class Individual_knapsack:\n",
    "    \"\"\"Representation of the knapsack \n",
    "    It \n",
    "    \"\"\"\n",
    "    pass\n"
   ]
  }
 ],
 "metadata": {
  "kernelspec": {
   "display_name": "Python 3.9.13 64-bit",
   "language": "python",
   "name": "python3"
  },
  "language_info": {
   "codemirror_mode": {
    "name": "ipython",
    "version": 3
   },
   "file_extension": ".py",
   "mimetype": "text/x-python",
   "name": "python",
   "nbconvert_exporter": "python",
   "pygments_lexer": "ipython3",
   "version": "3.9.13"
  },
  "orig_nbformat": 4,
  "vscode": {
   "interpreter": {
    "hash": "e3888b73b259f7d5bccc7dd14a47164f1f8192cddf015f8816ac070d24de17f0"
   }
  }
 },
 "nbformat": 4,
 "nbformat_minor": 2
}

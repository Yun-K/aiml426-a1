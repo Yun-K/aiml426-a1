{
 "cells": [
  {
   "cell_type": "markdown",
   "metadata": {},
   "source": [
    "# Genetic Programming for Symbolic Programming\n",
    "\n",
    "In this question, your task is to build a GP system to automatically evolve a number of genetic programs for the following regression problem:\n",
    "\n",
    "You can use a GP library. You should:\n",
    "\n",
    "- Determine and describe the terminal set and the function set.\n",
    "\n",
    "- Design the fitness cases and fitness function.\n",
    "\n",
    "- Set the necessary parameters, such as population size, max tree depth, termination criteria, crossover and mutation rates.\n",
    "\n",
    "- Run the GP system for 3 times with different random seeds. Report the best genetic programs (their structure and performance) of each of the 3 runs. Do your observations, discussions and draw your conclusions"
   ]
  },
  {
   "cell_type": "code",
   "execution_count": null,
   "metadata": {},
   "outputs": [],
   "source": []
  },
  {
   "cell_type": "code",
   "execution_count": null,
   "metadata": {},
   "outputs": [],
   "source": []
  }
 ],
 "metadata": {
  "kernelspec": {
   "display_name": "Python 3.10.6 64-bit",
   "language": "python",
   "name": "python3"
  },
  "language_info": {
   "name": "python",
   "version": "3.10.6"
  },
  "orig_nbformat": 4,
  "vscode": {
   "interpreter": {
    "hash": "5820782ddb57a41d134023b13d831951fa79f64168f9e1c024d589e5d1bd51a8"
   }
  }
 },
 "nbformat": 4,
 "nbformat_minor": 2
}

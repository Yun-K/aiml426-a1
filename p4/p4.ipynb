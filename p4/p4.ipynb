{
 "cells": [
  {
   "cell_type": "markdown",
   "metadata": {},
   "source": [
    "# Genetic Programming for Symbolic Programming\n",
    "\n",
    "In this question, your task is to build a GP system to automatically evolve a number of genetic programs for the following regression problem:\n",
    "\n",
    "You can use a GP library. You should:\n",
    "\n",
    "- Determine and describe the terminal set and the function set.\n",
    "\n",
    "- Design the fitness cases and fitness function.\n",
    "\n",
    "- Set the necessary parameters, such as population size, max tree depth, termination criteria, crossover and mutation rates.\n",
    "\n",
    "- Run the GP system for 3 times with different random seeds. Report the best genetic programs (their structure and performance) of each of the 3 runs. Do your observations, discussions and draw your conclusions"
   ]
  },
  {
   "cell_type": "markdown",
   "metadata": {},
   "source": [
    "Code is inspired from \n",
    "> https://deap.readthedocs.io/en/master/examples/gp_symbreg.html\n",
    ">\n",
    "> https://blog.csdn.net/ocd_with_naming/article/details/99585140"
   ]
  },
  {
   "cell_type": "code",
   "execution_count": 1,
   "metadata": {},
   "outputs": [],
   "source": [
    "\n",
    "from matplotlib import pyplot\n",
    "import operator  \n",
    "import pandas as pd\n",
    "from deap.benchmarks.tools import diversity, convergence, hypervolume\n",
    "from copy import deepcopy\n",
    "from collections import deque\n",
    "\n",
    "from json import tool\n",
    "from deap import creator, base, gp, tools, algorithms # core functionality of DEAP\n",
    "import array\n",
    "import random\n",
    "import json\n",
    "import numpy as np\n",
    "import math\n",
    "import random\n",
    "# Python internal operators for object comparisons, \n",
    "# logical comparisons, arithmetic operations, and sequence operations\n",
    "import operator \n",
    "\n",
    "# primitives are internal nodes, terminals are leaf nodes that can be either args or constants.\n",
    "\n",
    "# tree based encoding to represent and evolve programs using evolutionary operators(i.e. selection, crossover, mutation). \n",
    "# Solution trees are composed of primitive functions (e.g., arithmetic operations, mathematical functions, logical operations) and terminals (variables or constants linked to the problem).\n",
    "\n",
    "# a population of heuristics is evolved in order to improve their performance\n",
    "# To reduce the complexity, only the part which has a direct impact on the TSP heuristic results is evolved, i.e., scoring function. \n",
    "\n"
   ]
  },
  {
   "cell_type": "code",
   "execution_count": null,
   "metadata": {},
   "outputs": [],
   "source": [
    "\n",
    "\n",
    "# 1st, initialization of population\n",
    "# set the primitive set, which is the union of the function set  and terminal set\n",
    "# note(from blogs): primitives are not functions + terminals, primitives just refer to functions \n",
    "def protectDiv(left, right):\n",
    "    \"\"\"For protecting the case that the division by zero\n",
    "    % is used for protection of the case that the division by zero\n",
    "    \"\"\"\n",
    "    if right == 0:\n",
    "        return 1\n",
    "    else:\n",
    "        return left / right\n",
    "    \n",
    "pset = gp.PrimitiveSet(\"MAIN\",1) # main is the name, 1 is the input num\n",
    "pset.addPrimitive(operator.add, 2)\n",
    "pset.addPrimitive(operator.sub, 2)\n",
    "pset.addPrimitive(operator.mul, 2)\n",
    "pset.addPrimitive(operator.neg, 1)\n",
    "pset.addPrimitive(operator.mod, 2) # modulo operator: %,  for divide protection\n",
    "pset.addPrimitive(protectDiv, 2)\n",
    "\n",
    "# then add terminals\n",
    "# terminals should be: https://ieeexplore.ieee.org/document/8778254\n",
    "# nunber of nodes in the graph\n",
    "# it is important to add the terminals to the primitive set, otherwise the program will not be able to evolve.\n",
    "# ephemeral constants are not fixed, when they are selected into trees, \n",
    "# the included functions will be executed, and its output will be used as the value of the constant that will be added into the tree.\n",
    "pset.addEphemeralConstant(f\"{random.randint(-1,99999999999)}\", lambda: random.randint(-1,1))\n",
    "\n",
    "\n",
    "pset.renameArguments(ARG0='x') \n",
    "\n",
    "# 2. use the createor to construct the Individual and fitness\n",
    "# minimize the cost, so -1,0 is used as the weight input\n",
    "creator.create(\"FitnessMin\", base.Fitness, weights=(-1.0,)) #TODO: need to follow the requirements to develop and implement the fitness evaluation of GP Individual \n",
    "\n",
    "creator.create(\"Individual\", gp.PrimitiveTree, fitness=creator.FitnessMin)\n",
    "\n",
    "# 3.  register some self defined functions into the toolbox \n",
    "# so that the algorthims part can be called via toolbox.name\n",
    "# algorithms refer to the implementation of genetic iteration, \n",
    "# you can customize, can also use the algorithms provided in the algorithms module. \n",
    "# When using methods in the algorithms module, the toolbox registers functions with fixed names,\n",
    "# such as fitness evaluation must be registered as“evaluate,” \n",
    "# genetic operations cross-registered as“Mate,”\n",
    "# variants registered as“Mute,” and so on.\n",
    "toolbox = base.Toolbox()\n",
    "toolbox.register(\"expr\", gp.genHalfAndHalf, pset=pset, min_=1, max_=2)\n",
    "toolbox.register(\"Individual\", tools.initIterate, creator.Individual, toolbox.expr)\n",
    "toolbox.register(\"population\", tools.initRepeat, list, toolbox.Individual)\n",
    "toolbox.register(\"compile\", gp.compile, pset=pset)\n",
    "# Attribute generator\n",
    "# toolbox.register(\"indices\", random.sample, range(IND_SIZE), IND_SIZE)\n"
   ]
  }
 ],
 "metadata": {
  "kernelspec": {
   "display_name": "Python 3.9.13 64-bit",
   "language": "python",
   "name": "python3"
  },
  "language_info": {
   "codemirror_mode": {
    "name": "ipython",
    "version": 3
   },
   "file_extension": ".py",
   "mimetype": "text/x-python",
   "name": "python",
   "nbconvert_exporter": "python",
   "pygments_lexer": "ipython3",
   "version": "3.9.13"
  },
  "orig_nbformat": 4,
  "vscode": {
   "interpreter": {
    "hash": "52da647447b8fe2208076266408c42f82750713fb5b92055dee0a0742687bf52"
   }
  }
 },
 "nbformat": 4,
 "nbformat_minor": 2
}
